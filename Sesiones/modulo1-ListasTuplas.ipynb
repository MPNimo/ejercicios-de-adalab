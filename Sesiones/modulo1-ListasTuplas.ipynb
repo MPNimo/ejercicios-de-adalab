{
 "cells": [
  {
   "cell_type": "markdown",
   "id": "1cda7e28",
   "metadata": {},
   "source": [
    "# Métodos comunes de listas\n",
    "\n",
    "- append(x): Añade x al final\n",
    "- insert(i, x): Inserta x en la posición i\n",
    "- remove(x): Elimina la primera aparición de \n"
   ]
  },
  {
   "cell_type": "markdown",
   "id": "0b2ef6fe",
   "metadata": {},
   "source": []
  }
 ],
 "metadata": {
  "language_info": {
   "name": "python"
  }
 },
 "nbformat": 4,
 "nbformat_minor": 5
}
